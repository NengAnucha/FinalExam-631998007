{
 "cells": [
  {
   "cell_type": "markdown",
   "id": "cde7f606",
   "metadata": {},
   "source": [
    "# 1. จากกราฟที่กำหนด ให้นักศึกษาหาเส้นทางไปยังโหนดในกราฟ โดยเริ่มที่โหนด A พร้อมระบุระยะทางรวมถึงเส้นทางจากต้นทางไปยังปลายทางที่ต้องการ"
   ]
  },
  {
   "cell_type": "code",
   "execution_count": 1,
   "id": "5aa3a35b",
   "metadata": {},
   "outputs": [
    {
     "name": "stdout",
     "output_type": "stream",
     "text": [
      "ระยะทางรวม (5, ['A', 'E', 'G'])\n"
     ]
    }
   ],
   "source": [
    "from collections import defaultdict , deque\n",
    "\n",
    "class Graph(object):\n",
    "    def __init__(self):\n",
    "        self.nodes = set()\n",
    "        self.edges = defaultdict(list)\n",
    "        self.distances = {}\n",
    "\n",
    "    def add_node(self, value):\n",
    "        self.nodes.add(value)\n",
    "\n",
    "    def add_edge(self, from_node, to_node, distance):\n",
    "        self.edges[from_node].append(to_node)\n",
    "        self.edges[to_node].append(from_node)\n",
    "        self.distances[(from_node, to_node)] = distance\n",
    "\n",
    "def dijkstra(graph, initial):\n",
    "    visited = {initial: 0}\n",
    "    path = {}\n",
    "    nodes = set(graph.nodes)\n",
    "\n",
    "    while nodes:\n",
    "        min_node = None\n",
    "        for node in nodes:\n",
    "            if node in visited:\n",
    "                if min_node is None:\n",
    "                    min_node = node\n",
    "                elif visited[node] < visited[min_node]:\n",
    "                    min_node = node\n",
    "        if min_node is None:\n",
    "            break\n",
    "\n",
    "        nodes.remove(min_node)\n",
    "        current_weight = visited[min_node]\n",
    "\n",
    "        for edge in graph.edges[min_node]:\n",
    "            try:\n",
    "                weight = current_weight + graph.distances[(min_node, edge)]\n",
    "            except:\n",
    "                continue\n",
    "            if edge not in visited or weight < visited[edge]:\n",
    "                visited[edge] = weight\n",
    "                path[edge] = min_node\n",
    "\n",
    "    return visited, path\n",
    "\n",
    "def shortest_path(graph, origin, destination):\n",
    "    visited, paths = dijkstra(graph, origin)\n",
    "    full_path = deque()\n",
    "    _destination = paths[destination]\n",
    "\n",
    "    while _destination != origin:\n",
    "        full_path.appendleft(_destination)\n",
    "        _destination = paths[_destination]\n",
    "\n",
    "    full_path.appendleft(origin)\n",
    "    full_path.append(destination)\n",
    "\n",
    "    return visited[destination], list(full_path)\n",
    "\n",
    "if __name__ == '__main__':\n",
    "    graph = Graph()\n",
    "\n",
    "    for node in ['A', 'B', 'C', 'D', 'E', 'F', 'G']:\n",
    "        graph.add_node(node)\n",
    "\n",
    "    graph.add_edge('A', 'B', 3)\n",
    "    graph.add_edge('A', 'D', 6)\n",
    "    graph.add_edge('A', 'E', 1)\n",
    "    graph.add_edge('B', 'A', 3)\n",
    "    graph.add_edge('B', 'C', 6)\n",
    "    graph.add_edge('B', 'E', 5)\n",
    "    graph.add_edge('C', 'B', 6)\n",
    "    graph.add_edge('C', 'E', 3)\n",
    "    graph.add_edge('C', 'F', 10)\n",
    "    graph.add_edge('D', 'A', 6)\n",
    "    graph.add_edge('D', 'E', 6)\n",
    "    graph.add_edge('D', 'G', 7)\n",
    "    graph.add_edge('E', 'A', 1)\n",
    "    graph.add_edge('E', 'B', 5)\n",
    "    graph.add_edge('E', 'C', 3)\n",
    "    graph.add_edge('E', 'D', 6)\n",
    "    graph.add_edge('E', 'G', 4)\n",
    "    graph.add_edge('F', 'C', 10)\n",
    "    graph.add_edge('G', 'D', 7)\n",
    "    graph.add_edge('G', 'E', 4)\n",
    "\n",
    "print(\"ระยะทางรวม\", shortest_path(graph, 'A', 'G'))"
   ]
  },
  {
   "cell_type": "markdown",
   "id": "3e941cb5",
   "metadata": {},
   "source": [
    "# 2. ให้นักศึกษาอธิบายและวิเคราะห์ประสิทธิภาพ ระหว่างการเก็บข้อมูลแบบกราฟ (Graph) ด้วยวิธี Adjacency Matrix และ Adjacency List ทดลองเปรียบเทียบจากกราฟที่จำนวนโหนด (Vertex) น้อยไปถึงกราฟที่มีจำนวนโหนดมาก"
   ]
  },
  {
   "cell_type": "markdown",
   "id": "1e396d92",
   "metadata": {},
   "source": [
    "1) การจัดเก็บโครงสร้างกราฟด้วยแอดจาเซนซีเมทริกซ์ (Adjacency Matrix) คือ อาร์เรย์สองมิติที่เก็บความสัมพันธ์ระหว่างจุดยอดใกล้เคียงในกราฟ   มีขนาด n x n\n",
    "\n",
    "2) การจัดเก็บโครงสร้างกราฟด้วยแอดจาเซนซีลิสต์ (Adjacency List) คือ อาร์เรย์แต่ละช่องจะหมายถึงลำดับจุดยอดในกราฟ โดยแต่ละช่องจะเชื่อมโยงไปยังลิงค์ลิสต์ของจุดยอดเพื่อนบ้านของจุดยอดนั้น\n",
    "\n",
    "- ทดลองเปรียบเทียบจากกราฟที่มีจำนวนโหนด (Vertex) น้อยไปถึงกราฟที่มีจำนวนโหนดมาก\n",
    "\n",
    "บางครั้งการจัดเก็บข้อมูลกราฟขนาด n ในรูปแบบ แอดจาเซนซีเมทริกซ์ ด้วยอาร์เรย์สองมิติขนาด n x n   ในกรณีที่ n มีขนาดใหญ่มากๆ จะทำให้ใช้เนื้อที่หน่วยความจำมากเกินไป วิธีที่ช่วยลดการใช้งานพื้นที่หน่วยความจำ คือ การแทนกราฟด้วยอาร์เรย์ของลิงค์ลิสต์ หรือที่เรียกว่า แอดจาเซนซีลิสต์\n",
    "\n",
    "ดังนั้น Adjacency List มีประสิทธิภาพมากกว่า Adjacency Matrix"
   ]
  },
  {
   "cell_type": "markdown",
   "id": "51758589",
   "metadata": {},
   "source": [
    "# 3. ให้นักศึกษาสร้างต้นไม้ทวิภาค (Binary Tree) โดยในโปรแกรมประกอบดัวยฟังก์ชันต่อไปนี้"
   ]
  },
  {
   "cell_type": "code",
   "execution_count": 18,
   "id": "6680d3c8",
   "metadata": {
    "scrolled": true
   },
   "outputs": [
    {
     "name": "stdout",
     "output_type": "stream",
     "text": [
      "Binary tree : \n",
      "    3____\n",
      "   /     \\\n",
      "  2     __11___\n",
      " /     /       \\\n",
      "1     5        _13\n",
      "       \\      /\n",
      "        9    12\n",
      "\n"
     ]
    }
   ],
   "source": [
    "from binarytree import Node , bst\n",
    "root = bst(height = 3)\n",
    "print('Binary tree :', root)"
   ]
  },
  {
   "cell_type": "markdown",
   "id": "d7d32798",
   "metadata": {},
   "source": [
    "# 3.1 การท่องต้นไม้แบบ Preorder, Inorder, และ Postorder"
   ]
  },
  {
   "cell_type": "code",
   "execution_count": 19,
   "id": "b285b902",
   "metadata": {},
   "outputs": [
    {
     "name": "stdout",
     "output_type": "stream",
     "text": [
      "Preoder of nodes :  [Node(3), Node(2), Node(1), Node(11), Node(5), Node(9), Node(13), Node(12)]\n",
      "Inorder of nodes : [Node(1), Node(2), Node(3), Node(5), Node(9), Node(11), Node(12), Node(13)]\n",
      "Postoder of nodes :  [Node(1), Node(2), Node(9), Node(5), Node(12), Node(13), Node(11), Node(3)]\n"
     ]
    }
   ],
   "source": [
    "print('Preoder of nodes : ', root.preorder)\n",
    "print('Inorder of nodes :', root.inorder)\n",
    "print('Postoder of nodes : ', root.postorder)"
   ]
  },
  {
   "cell_type": "markdown",
   "id": "597320bf",
   "metadata": {},
   "source": [
    "# 3.2 แสดงความสูงของต้นไม้และจำนวนของโหนดของต้นไม้"
   ]
  },
  {
   "cell_type": "code",
   "execution_count": 20,
   "id": "ebe339b9",
   "metadata": {
    "scrolled": true
   },
   "outputs": [
    {
     "name": "stdout",
     "output_type": "stream",
     "text": [
      "Node of tree : 8\n",
      "Height of tree : 3\n"
     ]
    }
   ],
   "source": [
    "print('Node of tree :', root.size)\n",
    "print('Height of tree :', root.height)"
   ]
  },
  {
   "cell_type": "markdown",
   "id": "2ca10a19",
   "metadata": {},
   "source": [
    "# 4. ให้นักศึกษาเขียนขั้นตอนวิธีสำหรับสร้างต้นไม้แบบ Binary Search Tree (BST) พร้อมทั้งสร้างฟังก์ชันสำหรับหาคำตอบต่อไปนี้"
   ]
  },
  {
   "cell_type": "code",
   "execution_count": 13,
   "id": "87819aa3",
   "metadata": {
    "scrolled": true
   },
   "outputs": [
    {
     "name": "stdout",
     "output_type": "stream",
     "text": [
      "Binary Search Tree : \n",
      "      6_____\n",
      "     /      \\\n",
      "    5       _12\n",
      "   /       /   \\\n",
      "  4       11    14\n",
      " /       /\n",
      "3       7\n",
      "\n"
     ]
    }
   ],
   "source": [
    "from binarytree import bst\n",
    "root = bst(height = 3)\n",
    "print('Binary Search Tree :', root)"
   ]
  },
  {
   "cell_type": "markdown",
   "id": "85ec2632",
   "metadata": {},
   "source": [
    "# 4.1 ผลรวม คู่อันดับก่อนหน้าและลำดับตามหลัง root"
   ]
  },
  {
   "cell_type": "code",
   "execution_count": 14,
   "id": "9d54d58f",
   "metadata": {},
   "outputs": [
    {
     "name": "stdout",
     "output_type": "stream",
     "text": [
      "ผลรวมคู่อันดับก่อนหน้าและลำดับตามหลัง root : 17\n"
     ]
    }
   ],
   "source": [
    "def TraverseTree(root):\n",
    "    Sum = root.left.value + root.right.value\n",
    "    return Sum\n",
    "\n",
    "Sum = TraverseTree(root)\n",
    "print(\"ผลรวมคู่อันดับก่อนหน้าและลำดับตามหลัง root : \" + str(Sum))"
   ]
  },
  {
   "cell_type": "markdown",
   "id": "c145cef8",
   "metadata": {},
   "source": [
    "# 4.2 ผลรวมของ ต้นไม้ทั้งต้น"
   ]
  },
  {
   "cell_type": "code",
   "execution_count": 15,
   "id": "207f1786",
   "metadata": {},
   "outputs": [
    {
     "name": "stdout",
     "output_type": "stream",
     "text": [
      "ผลรวมของต้นไม้ทั้งต้น : 62\n"
     ]
    }
   ],
   "source": [
    "def InorderTraverseTree( root): \n",
    "    if root:\n",
    "        return InorderTraverseTree(root.left) + int(root.value) + InorderTraverseTree(root.right)\n",
    "    else:\n",
    "        return 0\n",
    "\n",
    "Sum = InorderTraverseTree(root)\n",
    "print(\"ผลรวมของต้นไม้ทั้งต้น : \" + str(Sum))"
   ]
  },
  {
   "cell_type": "markdown",
   "id": "fe154424",
   "metadata": {},
   "source": [
    "# 4.3 ค้นหาโหนดในต้นไม้ ว่ามีเลขที่เราต้องการหรือไม่"
   ]
  },
  {
   "cell_type": "code",
   "execution_count": 16,
   "id": "eacc4d10",
   "metadata": {},
   "outputs": [
    {
     "name": "stdout",
     "output_type": "stream",
     "text": [
      "เลขที่เราต้องการคือ 7 : True\n"
     ]
    }
   ],
   "source": [
    "def Search(root,key):\n",
    "    if root:\n",
    "        if key == root.value:\n",
    "            return True\n",
    "        else:\n",
    "            if key > root.value:\n",
    "                return Search(root.right,key)\n",
    "            else:\n",
    "                return Search(root.left,key)\n",
    "    return False\n",
    "\n",
    "key = 7\n",
    "print(\"เลขที่เราต้องการคือ\",key ,\":\" , Search(root,key))"
   ]
  },
  {
   "cell_type": "markdown",
   "id": "333c9169",
   "metadata": {},
   "source": [
    "# 4.4 ผลรวมของ กิ่งซ้ายสุด และ กิ่งขวาสุด ของต้นไม้"
   ]
  },
  {
   "cell_type": "code",
   "execution_count": 17,
   "id": "7f53f6a2",
   "metadata": {},
   "outputs": [
    {
     "name": "stdout",
     "output_type": "stream",
     "text": [
      "ผลรวมของกิ่งซ้ายสุดและกิ่งขวาสุดของต้นไม้ : 17\n"
     ]
    }
   ],
   "source": [
    "def SumOfLeftestAndRightest(root):\n",
    "    res = []\n",
    "    if root:\n",
    "        res = SumOfLeftestAndRightest(root.left)\n",
    "        res.append(root.value)\n",
    "        res += SumOfLeftestAndRightest(root.right)\n",
    "\n",
    "    return res\n",
    "\n",
    "t = SumOfLeftestAndRightest(root)\n",
    "print(\"ผลรวมของกิ่งซ้ายสุดและกิ่งขวาสุดของต้นไม้ :\", t[0] +t[-1])"
   ]
  }
 ],
 "metadata": {
  "kernelspec": {
   "display_name": "Python 3 (ipykernel)",
   "language": "python",
   "name": "python3"
  },
  "language_info": {
   "codemirror_mode": {
    "name": "ipython",
    "version": 3
   },
   "file_extension": ".py",
   "mimetype": "text/x-python",
   "name": "python",
   "nbconvert_exporter": "python",
   "pygments_lexer": "ipython3",
   "version": "3.10.1"
  }
 },
 "nbformat": 4,
 "nbformat_minor": 5
}
